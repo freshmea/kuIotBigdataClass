{
 "cells": [
  {
   "cell_type": "code",
   "execution_count": 1,
   "metadata": {},
   "outputs": [
    {
     "data": {
      "text/plain": [
       "dict_keys(['data', 'target', 'frame', 'feature_names', 'target_names', 'images', 'DESCR'])"
      ]
     },
     "execution_count": 1,
     "metadata": {},
     "output_type": "execute_result"
    }
   ],
   "source": [
    "from sklearn import datasets\n",
    "\n",
    "digit_dataset = datasets.load_digits()\n",
    "digit_dataset.keys()"
   ]
  },
  {
   "cell_type": "code",
   "execution_count": 2,
   "metadata": {},
   "outputs": [
    {
     "data": {
      "text/plain": [
       "sklearn.utils._bunch.Bunch"
      ]
     },
     "execution_count": 2,
     "metadata": {},
     "output_type": "execute_result"
    }
   ],
   "source": [
    "type(digit_dataset)"
   ]
  },
  {
   "cell_type": "code",
   "execution_count": 3,
   "metadata": {},
   "outputs": [
    {
     "data": {
      "text/plain": [
       "(1797, 8, 8)"
      ]
     },
     "execution_count": 3,
     "metadata": {},
     "output_type": "execute_result"
    }
   ],
   "source": [
    "digit_dataset[\"images\"].shape"
   ]
  },
  {
   "cell_type": "code",
   "execution_count": 4,
   "metadata": {},
   "outputs": [
    {
     "data": {
      "text/plain": [
       "numpy.ndarray"
      ]
     },
     "execution_count": 4,
     "metadata": {},
     "output_type": "execute_result"
    }
   ],
   "source": [
    "type(digit_dataset[\"images\"])"
   ]
  },
  {
   "cell_type": "code",
   "execution_count": 5,
   "metadata": {},
   "outputs": [
    {
     "data": {
      "image/png": "[encoded data removed]",
      "text/plain": [
       "<Figure size 1000x300 with 4 Axes>"
      ]
     },
     "metadata": {},
     "output_type": "display_data"
    }
   ],
   "source": [
    "import matplotlib.pyplot as plt\n",
    "from random import randint\n",
    "\n",
    "_, axes = plt.subplots(nrows=1, ncols=4, figsize=(10, 3))\n",
    "for ax in axes:\n",
    "    num = randint(1, 1000)\n",
    "    image = digit_dataset[\"images\"][num]\n",
    "    label = digit_dataset[\"target\"][num]\n",
    "    ax.set_axis_off()\n",
    "    ax.imshow(image, cmap=plt.cm.gray_r, interpolation=\"nearest\")\n",
    "    ax.set_title(\"Training: %i\" % label)"
   ]
  },
  {
   "cell_type": "code",
   "execution_count": 33,
   "metadata": {},
   "outputs": [
    {
     "name": "stdout",
     "output_type": "stream",
     "text": [
      "[9 4 8 ... 0 3 0]\n"
     ]
    }
   ],
   "source": [
    "from sklearn.model_selection import train_test_split\n",
    "from sklearn.preprocessing import LabelEncoder\n",
    "import pandas as pd\n",
    "\n",
    "X = digit_dataset[\"data\"]\n",
    "y = digit_dataset[\"target\"]\n",
    "# y data mapping 123 to one two three\n",
    "y = pd.Series(y).map(\n",
    "    {\n",
    "        0: \"zero\",\n",
    "        1: \"one\",\n",
    "        2: \"two\",\n",
    "        3: \"three\",\n",
    "        4: \"four\",\n",
    "        5: \"five\",\n",
    "        6: \"six\",\n",
    "        7: \"seven\",\n",
    "        8: \"eight\",\n",
    "        9: \"nine\",\n",
    "    }\n",
    ")\n",
    "le = LabelEncoder()\n",
    "y = le.fit_transform(y)\n",
    "print(y)\n",
    "X_train, X_test, y_train, y_test = train_test_split(X, y)"
   ]
  },
  {
   "cell_type": "code",
   "execution_count": 7,
   "metadata": {},
   "outputs": [
    {
     "name": "stdout",
     "output_type": "stream",
     "text": [
      "(1797, 64) (1347, 64) (450, 64)\n"
     ]
    }
   ],
   "source": [
    "print(X.shape, X_train.shape, X_test.shape)"
   ]
  },
  {
   "cell_type": "code",
   "execution_count": 8,
   "metadata": {},
   "outputs": [
    {
     "name": "stderr",
     "output_type": "stream",
     "text": [
      "/home/aa/miniconda3/envs/my_project/lib/python3.10/site-packages/sklearn/linear_model/_logistic.py:469: ConvergenceWarning: lbfgs failed to converge (status=1):\n",
      "STOP: TOTAL NO. of ITERATIONS REACHED LIMIT.\n",
      "\n",
      "Increase the number of iterations (max_iter) or scale the data as shown in:\n",
      "    https://scikit-learn.org/stable/modules/preprocessing.html\n",
      "Please also refer to the documentation for alternative solver options:\n",
      "    https://scikit-learn.org/stable/modules/linear_model.html#logistic-regression\n",
      "  n_iter_i = _check_optimize_result(\n",
      "/home/aa/miniconda3/envs/my_project/lib/python3.10/site-packages/sklearn/linear_model/_sag.py:350: ConvergenceWarning: The max_iter was reached which means the coef_ did not converge\n",
      "  warnings.warn(\n"
     ]
    },
    {
     "data": {
      "text/html": [
       "<style>#sk-container-id-1 {\n",
       "  /* Definition of color scheme common for light and dark mode */\n",
       "  --sklearn-color-text: black;\n",
       "  --sklearn-color-line: gray;\n",
       "  /* Definition of color scheme for unfitted estimators */\n",
       "  --sklearn-color-unfitted-level-0: #fff5e6;\n",
       "  --sklearn-color-unfitted-level-1: #f6e4d2;\n",
       "  --sklearn-color-unfitted-level-2: #ffe0b3;\n",
       "  --sklearn-color-unfitted-level-3: chocolate;\n",
       "  /* Definition of color scheme for fitted estimators */\n",
       "  --sklearn-color-fitted-level-0: #f0f8ff;\n",
       "  --sklearn-color-fitted-level-1: #d4ebff;\n",
       "  --sklearn-color-fitted-level-2: #b3dbfd;\n",
       "  --sklearn-color-fitted-level-3: cornflowerblue;\n",
       "\n",
       "  /* Specific color for light theme */\n",
       "  --sklearn-color-text-on-default-background: var(--sg-text-color, var(--theme-code-foreground, var(--jp-content-font-color1, black)));\n",
       "  --sklearn-color-background: var(--sg-background-color, var(--theme-background, var(--jp-layout-color0, white)));\n",
       "  --sklearn-color-border-box: var(--sg-text-color, var(--theme-code-foreground, var(--jp-content-font-color1, black)));\n",
       "  --sklearn-color-icon: #696969;\n",
       "\n",
       "  @media (prefers-color-scheme: dark) {\n",
       "    /* Redefinition of color scheme for dark theme */\n",
       "    --sklearn-color-text-on-default-background: var(--sg-text-color, var(--theme-code-foreground, var(--jp-content-font-color1, white)));\n",
       "    --sklearn-color-background: var(--sg-background-color, var(--theme-background, var(--jp-layout-color0, #111)));\n",
       "    --sklearn-color-border-box: var(--sg-text-color, var(--theme-code-foreground, var(--jp-content-font-color1, white)));\n",
       "    --sklearn-color-icon: #878787;\n",
       "  }\n",
       "}\n",
       "\n",
       "#sk-container-id-1 {\n",
       "  color: var(--sklearn-color-text);\n",
       "}\n",
       "\n",
       "#sk-container-id-1 pre {\n",
       "  padding: 0;\n",
       "}\n",
       "\n",
       "#sk-container-id-1 input.sk-hidden--visually {\n",
       "  border: 0;\n",
       "  clip: rect(1px 1px 1px 1px);\n",
       "  clip: rect(1px, 1px, 1px, 1px);\n",
       "  height: 1px;\n",
       "  margin: -1px;\n",
       "  overflow: hidden;\n",
       "  padding: 0;\n",
       "  position: absolute;\n",
       "  width: 1px;\n",
       "}\n",
       "\n",
       "#sk-container-id-1 div.sk-dashed-wrapped {\n",
       "  border: 1px dashed var(--sklearn-color-line);\n",
       "  margin: 0 0.4em 0.5em 0.4em;\n",
       "  box-sizing: border-box;\n",
       "  padding-bottom: 0.4em;\n",
       "  background-color: var(--sklearn-color-background);\n",
       "}\n",
       "\n",
       "#sk-container-id-1 div.sk-container {\n",
       "  /* jupyter's `normalize.less` sets `[hidden] { display: none; }`\n",
       "     but bootstrap.min.css set `[hidden] { display: none !important; }`\n",
       "     so we also need the `!important` here to be able to override the\n",
       "     default hidden behavior on the sphinx rendered scikit-learn.org.\n",
       "     See: https://github.com/scikit-learn/scikit-learn/issues/21755 */\n",
       "  display: inline-block !important;\n",
       "  position: relative;\n",
       "}\n",
       "\n",
       "#sk-container-id-1 div.sk-text-repr-fallback {\n",
       "  display: none;\n",
       "}\n",
       "\n",
       "div.sk-parallel-item,\n",
       "div.sk-serial,\n",
       "div.sk-item {\n",
       "  /* draw centered vertical line to link estimators */\n",
       "  background-image: linear-gradient(var(--sklearn-color-text-on-default-background), var(--sklearn-color-text-on-default-background));\n",
       "  background-size: 2px 100%;\n",
       "  background-repeat: no-repeat;\n",
       "  background-position: center center;\n",
       "}\n",
       "\n",
       "/* Parallel-specific style estimator block */\n",
       "\n",
       "#sk-container-id-1 div.sk-parallel-item::after {\n",
       "  content: \"\";\n",
       "  width: 100%;\n",
       "  border-bottom: 2px solid var(--sklearn-color-text-on-default-background);\n",
       "  flex-grow: 1;\n",
       "}\n",
       "\n",
       "#sk-container-id-1 div.sk-parallel {\n",
       "  display: flex;\n",
       "  align-items: stretch;\n",
       "  justify-content: center;\n",
       "  background-color: var(--sklearn-color-background);\n",
       "  position: relative;\n",
       "}\n",
       "\n",
       "#sk-container-id-1 div.sk-parallel-item {\n",
       "  display: flex;\n",
       "  flex-direction: column;\n",
       "}\n",
       "\n",
       "#sk-container-id-1 div.sk-parallel-item:first-child::after {\n",
       "  align-self: flex-end;\n",
       "  width: 50%;\n",
       "}\n",
       "\n",
       "#sk-container-id-1 div.sk-parallel-item:last-child::after {\n",
       "  align-self: flex-start;\n",
       "  width: 50%;\n",
       "}\n",
       "\n",
       "#sk-container-id-1 div.sk-parallel-item:only-child::after {\n",
       "  width: 0;\n",
       "}\n",
       "\n",
       "/* Serial-specific style estimator block */\n",
       "\n",
       "#sk-container-id-1 div.sk-serial {\n",
       "  display: flex;\n",
       "  flex-direction: column;\n",
       "  align-items: center;\n",
       "  background-color: var(--sklearn-color-background);\n",
       "  padding-right: 1em;\n",
       "  padding-left: 1em;\n",
       "}\n",
       "\n",
       "\n",
       "/* Toggleable style: style used for estimator/Pipeline/ColumnTransformer box that is\n",
       "clickable and can be expanded/collapsed.\n",
       "- Pipeline and ColumnTransformer use this feature and define the default style\n",
       "- Estimators will overwrite some part of the style using the `sk-estimator` class\n",
       "*/\n",
       "\n",
       "/* Pipeline and ColumnTransformer style (default) */\n",
       "\n",
       "#sk-container-id-1 div.sk-toggleable {\n",
       "  /* Default theme specific background. It is overwritten whether we have a\n",
       "  specific estimator or a Pipeline/ColumnTransformer */\n",
       "  background-color: var(--sklearn-color-background);\n",
       "}\n",
       "\n",
       "/* Toggleable label */\n",
       "#sk-container-id-1 label.sk-toggleable__label {\n",
       "  cursor: pointer;\n",
       "  display: block;\n",
       "  width: 100%;\n",
       "  margin-bottom: 0;\n",
       "  padding: 0.5em;\n",
       "  box-sizing: border-box;\n",
       "  text-align: center;\n",
       "}\n",
       "\n",
       "#sk-container-id-1 label.sk-toggleable__label-arrow:before {\n",
       "  /* Arrow on the left of the label */\n",
       "  content: \"▸\";\n",
       "  float: left;\n",
       "  margin-right: 0.25em;\n",
       "  color: var(--sklearn-color-icon);\n",
       "}\n",
       "\n",
       "#sk-container-id-1 label.sk-toggleable__label-arrow:hover:before {\n",
       "  color: var(--sklearn-color-text);\n",
       "}\n",
       "\n",
       "/* Toggleable content - dropdown */\n",
       "\n",
       "#sk-container-id-1 div.sk-toggleable__content {\n",
       "  max-height: 0;\n",
       "  max-width: 0;\n",
       "  overflow: hidden;\n",
       "  text-align: left;\n",
       "  /* unfitted */\n",
       "  background-color: var(--sklearn-color-unfitted-level-0);\n",
       "}\n",
       "\n",
       "#sk-container-id-1 div.sk-toggleable__content.fitted {\n",
       "  /* fitted */\n",
       "  background-color: var(--sklearn-color-fitted-level-0);\n",
       "}\n",
       "\n",
       "#sk-container-id-1 div.sk-toggleable__content pre {\n",
       "  margin: 0.2em;\n",
       "  border-radius: 0.25em;\n",
       "  color: var(--sklearn-color-text);\n",
       "  /* unfitted */\n",
       "  background-color: var(--sklearn-color-unfitted-level-0);\n",
       "}\n",
       "\n",
       "#sk-container-id-1 div.sk-toggleable__content.fitted pre {\n",
       "  /* unfitted */\n",
       "  background-color: var(--sklearn-color-fitted-level-0);\n",
       "}\n",
       "\n",
       "#sk-container-id-1 input.sk-toggleable__control:checked~div.sk-toggleable__content {\n",
       "  /* Expand drop-down */\n",
       "  max-height: 200px;\n",
       "  max-width: 100%;\n",
       "  overflow: auto;\n",
       "}\n",
       "\n",
       "#sk-container-id-1 input.sk-toggleable__control:checked~label.sk-toggleable__label-arrow:before {\n",
       "  content: \"▾\";\n",
       "}\n",
       "\n",
       "/* Pipeline/ColumnTransformer-specific style */\n",
       "\n",
       "#sk-container-id-1 div.sk-label input.sk-toggleable__control:checked~label.sk-toggleable__label {\n",
       "  color: var(--sklearn-color-text);\n",
       "  background-color: var(--sklearn-color-unfitted-level-2);\n",
       "}\n",
       "\n",
       "#sk-container-id-1 div.sk-label.fitted input.sk-toggleable__control:checked~label.sk-toggleable__label {\n",
       "  background-color: var(--sklearn-color-fitted-level-2);\n",
       "}\n",
       "\n",
       "/* Estimator-specific style */\n",
       "\n",
       "/* Colorize estimator box */\n",
       "#sk-container-id-1 div.sk-estimator input.sk-toggleable__control:checked~label.sk-toggleable__label {\n",
       "  /* unfitted */\n",
       "  background-color: var(--sklearn-color-unfitted-level-2);\n",
       "}\n",
       "\n",
       "#sk-container-id-1 div.sk-estimator.fitted input.sk-toggleable__control:checked~label.sk-toggleable__label {\n",
       "  /* fitted */\n",
       "  background-color: var(--sklearn-color-fitted-level-2);\n",
       "}\n",
       "\n",
       "#sk-container-id-1 div.sk-label label.sk-toggleable__label,\n",
       "#sk-container-id-1 div.sk-label label {\n",
       "  /* The background is the default theme color */\n",
       "  color: var(--sklearn-color-text-on-default-background);\n",
       "}\n",
       "\n",
       "/* On hover, darken the color of the background */\n",
       "#sk-container-id-1 div.sk-label:hover label.sk-toggleable__label {\n",
       "  color: var(--sklearn-color-text);\n",
       "  background-color: var(--sklearn-color-unfitted-level-2);\n",
       "}\n",
       "\n",
       "/* Label box, darken color on hover, fitted */\n",
       "#sk-container-id-1 div.sk-label.fitted:hover label.sk-toggleable__label.fitted {\n",
       "  color: var(--sklearn-color-text);\n",
       "  background-color: var(--sklearn-color-fitted-level-2);\n",
       "}\n",
       "\n",
       "/* Estimator label */\n",
       "\n",
       "#sk-container-id-1 div.sk-label label {\n",
       "  font-family: monospace;\n",
       "  font-weight: bold;\n",
       "  display: inline-block;\n",
       "  line-height: 1.2em;\n",
       "}\n",
       "\n",
       "#sk-container-id-1 div.sk-label-container {\n",
       "  text-align: center;\n",
       "}\n",
       "\n",
       "/* Estimator-specific */\n",
       "#sk-container-id-1 div.sk-estimator {\n",
       "  font-family: monospace;\n",
       "  border: 1px dotted var(--sklearn-color-border-box);\n",
       "  border-radius: 0.25em;\n",
       "  box-sizing: border-box;\n",
       "  margin-bottom: 0.5em;\n",
       "  /* unfitted */\n",
       "  background-color: var(--sklearn-color-unfitted-level-0);\n",
       "}\n",
       "\n",
       "#sk-container-id-1 div.sk-estimator.fitted {\n",
       "  /* fitted */\n",
       "  background-color: var(--sklearn-color-fitted-level-0);\n",
       "}\n",
       "\n",
       "/* on hover */\n",
       "#sk-container-id-1 div.sk-estimator:hover {\n",
       "  /* unfitted */\n",
       "  background-color: var(--sklearn-color-unfitted-level-2);\n",
       "}\n",
       "\n",
       "#sk-container-id-1 div.sk-estimator.fitted:hover {\n",
       "  /* fitted */\n",
       "  background-color: var(--sklearn-color-fitted-level-2);\n",
       "}\n",
       "\n",
       "/* Specification for estimator info (e.g. \"i\" and \"?\") */\n",
       "\n",
       "/* Common style for \"i\" and \"?\" */\n",
       "\n",
       ".sk-estimator-doc-link,\n",
       "a:link.sk-estimator-doc-link,\n",
       "a:visited.sk-estimator-doc-link {\n",
       "  float: right;\n",
       "  font-size: smaller;\n",
       "  line-height: 1em;\n",
       "  font-family: monospace;\n",
       "  background-color: var(--sklearn-color-background);\n",
       "  border-radius: 1em;\n",
       "  height: 1em;\n",
       "  width: 1em;\n",
       "  text-decoration: none !important;\n",
       "  margin-left: 1ex;\n",
       "  /* unfitted */\n",
       "  border: var(--sklearn-color-unfitted-level-1) 1pt solid;\n",
       "  color: var(--sklearn-color-unfitted-level-1);\n",
       "}\n",
       "\n",
       ".sk-estimator-doc-link.fitted,\n",
       "a:link.sk-estimator-doc-link.fitted,\n",
       "a:visited.sk-estimator-doc-link.fitted {\n",
       "  /* fitted */\n",
       "  border: var(--sklearn-color-fitted-level-1) 1pt solid;\n",
       "  color: var(--sklearn-color-fitted-level-1);\n",
       "}\n",
       "\n",
       "/* On hover */\n",
       "div.sk-estimator:hover .sk-estimator-doc-link:hover,\n",
       ".sk-estimator-doc-link:hover,\n",
       "div.sk-label-container:hover .sk-estimator-doc-link:hover,\n",
       ".sk-estimator-doc-link:hover {\n",
       "  /* unfitted */\n",
       "  background-color: var(--sklearn-color-unfitted-level-3);\n",
       "  color: var(--sklearn-color-background);\n",
       "  text-decoration: none;\n",
       "}\n",
       "\n",
       "div.sk-estimator.fitted:hover .sk-estimator-doc-link.fitted:hover,\n",
       ".sk-estimator-doc-link.fitted:hover,\n",
       "div.sk-label-container:hover .sk-estimator-doc-link.fitted:hover,\n",
       ".sk-estimator-doc-link.fitted:hover {\n",
       "  /* fitted */\n",
       "  background-color: var(--sklearn-color-fitted-level-3);\n",
       "  color: var(--sklearn-color-background);\n",
       "  text-decoration: none;\n",
       "}\n",
       "\n",
       "/* Span, style for the box shown on hovering the info icon */\n",
       ".sk-estimator-doc-link span {\n",
       "  display: none;\n",
       "  z-index: 9999;\n",
       "  position: relative;\n",
       "  font-weight: normal;\n",
       "  right: .2ex;\n",
       "  padding: .5ex;\n",
       "  margin: .5ex;\n",
       "  width: min-content;\n",
       "  min-width: 20ex;\n",
       "  max-width: 50ex;\n",
       "  color: var(--sklearn-color-text);\n",
       "  box-shadow: 2pt 2pt 4pt #999;\n",
       "  /* unfitted */\n",
       "  background: var(--sklearn-color-unfitted-level-0);\n",
       "  border: .5pt solid var(--sklearn-color-unfitted-level-3);\n",
       "}\n",
       "\n",
       ".sk-estimator-doc-link.fitted span {\n",
       "  /* fitted */\n",
       "  background: var(--sklearn-color-fitted-level-0);\n",
       "  border: var(--sklearn-color-fitted-level-3);\n",
       "}\n",
       "\n",
       ".sk-estimator-doc-link:hover span {\n",
       "  display: block;\n",
       "}\n",
       "\n",
       "/* \"?\"-specific style due to the `<a>` HTML tag */\n",
       "\n",
       "#sk-container-id-1 a.estimator_doc_link {\n",
       "  float: right;\n",
       "  font-size: 1rem;\n",
       "  line-height: 1em;\n",
       "  font-family: monospace;\n",
       "  background-color: var(--sklearn-color-background);\n",
       "  border-radius: 1rem;\n",
       "  height: 1rem;\n",
       "  width: 1rem;\n",
       "  text-decoration: none;\n",
       "  /* unfitted */\n",
       "  color: var(--sklearn-color-unfitted-level-1);\n",
       "  border: var(--sklearn-color-unfitted-level-1) 1pt solid;\n",
       "}\n",
       "\n",
       "#sk-container-id-1 a.estimator_doc_link.fitted {\n",
       "  /* fitted */\n",
       "  border: var(--sklearn-color-fitted-level-1) 1pt solid;\n",
       "  color: var(--sklearn-color-fitted-level-1);\n",
       "}\n",
       "\n",
       "/* On hover */\n",
       "#sk-container-id-1 a.estimator_doc_link:hover {\n",
       "  /* unfitted */\n",
       "  background-color: var(--sklearn-color-unfitted-level-3);\n",
       "  color: var(--sklearn-color-background);\n",
       "  text-decoration: none;\n",
       "}\n",
       "\n",
       "#sk-container-id-1 a.estimator_doc_link.fitted:hover {\n",
       "  /* fitted */\n",
       "  background-color: var(--sklearn-color-fitted-level-3);\n",
       "}\n",
       "</style><div id=\"sk-container-id-1\" class=\"sk-top-container\"><div class=\"sk-text-repr-fallback\"><pre>LogisticRegression(multi_class=&#x27;multinomial&#x27;, solver=&#x27;sag&#x27;)</pre><b>In a Jupyter environment, please rerun this cell to show the HTML representation or trust the notebook. <br />On GitHub, the HTML representation is unable to render, please try loading this page with nbviewer.org.</b></div><div class=\"sk-container\" hidden><div class=\"sk-item\"><div class=\"sk-estimator fitted sk-toggleable\"><input class=\"sk-toggleable__control sk-hidden--visually\" id=\"sk-estimator-id-1\" type=\"checkbox\" checked><label for=\"sk-estimator-id-1\" class=\"sk-toggleable__label fitted sk-toggleable__label-arrow fitted\">&nbsp;&nbsp;LogisticRegression<a class=\"sk-estimator-doc-link fitted\" rel=\"noreferrer\" target=\"_blank\" href=\"https://scikit-learn.org/1.4/modules/generated/sklearn.linear_model.LogisticRegression.html\">?<span>Documentation for LogisticRegression</span></a><span class=\"sk-estimator-doc-link fitted\">i<span>Fitted</span></span></label><div class=\"sk-toggleable__content fitted\"><pre>LogisticRegression(multi_class=&#x27;multinomial&#x27;, solver=&#x27;sag&#x27;)</pre></div> </div></div></div></div>"
      ],
      "text/plain": [
       "LogisticRegression(multi_class='multinomial', solver='sag')"
      ]
     },
     "execution_count": 8,
     "metadata": {},
     "output_type": "execute_result"
    }
   ],
   "source": [
    "from sklearn.linear_model import LogisticRegression\n",
    "\n",
    "logreg_ovr = LogisticRegression(multi_class=\"ovr\")\n",
    "logreg_softmax = LogisticRegression(multi_class=\"multinomial\", solver=\"sag\")\n",
    "\n",
    "# model fit\n",
    "logreg_ovr.fit(X_train, y_train)\n",
    "logreg_softmax.fit(X_train, y_train)"
   ]
  },
  {
   "cell_type": "code",
   "execution_count": 44,
   "metadata": {},
   "outputs": [
    {
     "name": "stdout",
     "output_type": "stream",
     "text": [
      "nine\n",
      "[ 0.  0.  8. 15.  9.  0.  0.  0.  0.  1. 16. 10. 16.  9.  0.  0.  0.  2.\n",
      "  6.  2. 16. 16.  1.  0.  0.  3.  9.  9. 16. 14.  0.  0.  0.  0.  7.  5.\n",
      " 12.  5.  0.  0.  0.  0.  0.  0.  7. 12.  1.  0.  0.  0.  0.  0.  2. 16.\n",
      "  4.  0.  0.  0.  9. 13. 12. 10.  1.  0.]\n",
      "six\n",
      "[ 0.  0.  0. 10. 11.  0.  0.  0.  0.  0.  9. 16.  6.  0.  0.  0.  0.  0.\n",
      " 15. 13.  0.  0.  0.  0.  0.  0. 14. 10.  0.  0.  0.  0.  0.  1. 15. 12.\n",
      "  8.  2.  0.  0.  0.  0. 12. 16. 16. 16. 10.  1.  0.  0.  7. 16. 12. 12.\n",
      " 16.  4.  0.  0.  0.  9. 15. 12.  5.  0.]\n",
      "five\n",
      "[ 0.  1. 13. 16. 16. 11.  1.  0.  0.  8. 16. 16. 13. 11.  1.  0.  0. 11.\n",
      " 13.  1.  0.  0.  0.  0.  0. 10. 13.  2.  0.  0.  0.  0.  0.  2. 14. 15.\n",
      "  6.  0.  0.  0.  0.  0.  0.  8. 16.  6.  0.  0.  0.  0.  6.  9. 15.  9.\n",
      "  0.  0.  0.  0. 13. 16. 15.  3.  0.  0.]\n",
      "eight\n",
      "[ 0.  2. 12. 14.  3.  0.  0.  0.  0.  7. 16.  1.  0.  4.  1.  0.  0.  0.\n",
      " 13. 16. 16. 15.  1.  0.  0.  0.  7. 16. 14.  1.  0.  0.  0.  0. 15. 14.\n",
      " 16.  0.  0.  0.  0.  2. 16.  1. 15.  7.  0.  0.  0.  5. 16.  6. 15.  7.\n",
      "  0.  0.  0.  1. 16. 14.  9.  0.  0.  0.]\n"
     ]
    },
    {
     "data": {
      "image/png": "[encoded data removed]",
      "text/plain": [
       "<Figure size 1000x300 with 4 Axes>"
      ]
     },
     "metadata": {},
     "output_type": "display_data"
    }
   ],
   "source": [
    "from sklearn.metrics import (\n",
    "    confusion_matrix,\n",
    "    classification_report,\n",
    "    accuracy_score,\n",
    ")\n",
    "\n",
    "y_pred_ovr = logreg_ovr.predict(X_test)\n",
    "y_pred_softmax = logreg_softmax.predict(X_test)\n",
    "# print(\"ovr model:\")\n",
    "# print(confusion_matrix(y_test, y_pred_ovr))\n",
    "# print(\"softmax model:\")\n",
    "# print(confusion_matrix(y_test, y_pred_softmax))\n",
    "# convert to one two threee to 1 2 3\n",
    "# y_test = le.inverse_transform(y_test)\n",
    "# y_pred_ovr = le.inverse_transform(y_pred_ovr)\n",
    "_, axes = plt.subplots(nrows=1, ncols=4, figsize=(10, 3))\n",
    "\n",
    "for i, ax in enumerate(axes):\n",
    "    image = digit_dataset[\"images\"][i]\n",
    "    print(y_test[i])\n",
    "    print(X_test[i])\n",
    "    ax.set_axis_off()\n",
    "    ax.imshow(image, cmap=plt.cm.gray_r, interpolation=\"nearest\")\n",
    "    ax.set_title(\n",
    "        \"Training:\",\n",
    "    )"
   ]
  },
  {
   "cell_type": "code",
   "execution_count": 10,
   "metadata": {},
   "outputs": [
    {
     "name": "stdout",
     "output_type": "stream",
     "text": [
      "ovr model:\n",
      "classification_report \n",
      "              precision    recall  f1-score   support\n",
      "\n",
      "           0       1.00      0.98      0.99        50\n",
      "           1       0.75      1.00      0.86        36\n",
      "           2       1.00      1.00      1.00        50\n",
      "           3       1.00      0.91      0.95        44\n",
      "           4       0.96      0.93      0.95        46\n",
      "           5       0.94      1.00      0.97        46\n",
      "           6       1.00      0.96      0.98        51\n",
      "           7       0.98      0.94      0.96        48\n",
      "           8       0.88      0.81      0.85        37\n",
      "           9       0.95      0.90      0.93        42\n",
      "\n",
      "    accuracy                           0.95       450\n",
      "   macro avg       0.95      0.94      0.94       450\n",
      "weighted avg       0.95      0.95      0.95       450\n",
      "\n",
      "softmax model:\n",
      "classification_report \n",
      "              precision    recall  f1-score   support\n",
      "\n",
      "           0       1.00      1.00      1.00        50\n",
      "           1       0.84      1.00      0.91        36\n",
      "           2       1.00      1.00      1.00        50\n",
      "           3       0.98      0.91      0.94        44\n",
      "           4       0.94      0.96      0.95        46\n",
      "           5       0.94      0.98      0.96        46\n",
      "           6       1.00      0.96      0.98        51\n",
      "           7       1.00      0.94      0.97        48\n",
      "           8       0.84      0.84      0.84        37\n",
      "           9       0.97      0.93      0.95        42\n",
      "\n",
      "    accuracy                           0.95       450\n",
      "   macro avg       0.95      0.95      0.95       450\n",
      "weighted avg       0.96      0.95      0.95       450\n",
      "\n"
     ]
    }
   ],
   "source": [
    "print(\"ovr model:\")\n",
    "print(f\"classification_report \\n{classification_report(y_test, y_pred_ovr)}\")\n",
    "print(\"softmax model:\")\n",
    "print(f\"classification_report \\n{classification_report(y_test, y_pred_softmax)}\")"
   ]
  },
  {
   "cell_type": "code",
   "execution_count": 11,
   "metadata": {},
   "outputs": [
    {
     "name": "stdout",
     "output_type": "stream",
     "text": [
      "ovr model:\n",
      "accuracy_score: 0.9466666666666667\n",
      "softmax model:\n",
      "accuracy_score: 0.9533333333333334\n"
     ]
    },
    {
     "data": {
      "text/plain": [
       "0.9466666666666667"
      ]
     },
     "execution_count": 11,
     "metadata": {},
     "output_type": "execute_result"
    }
   ],
   "source": [
    "print(\"ovr model:\")\n",
    "print(f\"accuracy_score: {accuracy_score(y_test, y_pred_ovr)}\")\n",
    "print(\"softmax model:\")\n",
    "print(f\"accuracy_score: {accuracy_score(y_test, y_pred_softmax)}\")\n",
    "\n",
    "result = confusion_matrix(y_test, y_pred_ovr)\n",
    "result.diagonal().sum() / result.sum()"
   ]
  },
  {
   "cell_type": "code",
   "execution_count": 20,
   "metadata": {},
   "outputs": [],
   "source": [
    "from sklearn.metrics import roc_curve, auc\n",
    "\n",
    "fpr, tpr, thresholds = roc_curve(y_test, y_pred_ovr, pos_label=1)"
   ]
  },
  {
   "cell_type": "code",
   "execution_count": 22,
   "metadata": {},
   "outputs": [
    {
     "data": {
      "text/plain": [
       "0.1328502415458937"
      ]
     },
     "execution_count": 22,
     "metadata": {},
     "output_type": "execute_result"
    }
   ],
   "source": [
    "roc_auc = auc(fpr, tpr)\n",
    "roc_auc"
   ]
  },
  {
   "cell_type": "code",
   "execution_count": 17,
   "metadata": {},
   "outputs": [
    {
     "data": {
      "image/png": "[encoded data removed]",
      "text/plain": [
       "<Figure size 640x480 with 1 Axes>"
      ]
     },
     "metadata": {},
     "output_type": "display_data"
    }
   ],
   "source": [
    "plt.figure()\n",
    "lw = 2\n",
    "plt.plot(fpr, tpr, lw=lw, label=\"ROC curve \")\n",
    "plt.show()"
   ]
  },
  {
   "cell_type": "code",
   "execution_count": 28,
   "metadata": {},
   "outputs": [
    {
     "name": "stdout",
     "output_type": "stream",
     "text": [
      "ovr model: probability of 0: [5.57343730e-08 6.78736086e-03 9.70479048e-01 1.20450600e-14\n",
      " 8.94081228e-07 7.31805124e-24 1.09688065e-07 1.71868542e-07\n",
      " 2.27323597e-02 3.44286419e-16]\n",
      "ovr model: probability of 1: [1.92864514e-13 6.18955940e-08 6.69152554e-06 4.69732620e-11\n",
      " 3.50579619e-07 1.27574855e-07 1.29786225e-15 9.99992700e-01\n",
      " 1.68914611e-09 6.62300526e-08]\n",
      "ovr model: probability of 2: [9.99440043e-01 9.38210117e-06 3.10346187e-11 6.84496708e-16\n",
      " 6.01818398e-05 2.93002184e-13 4.68160232e-04 3.15358743e-12\n",
      " 1.29568441e-05 9.27601262e-06]\n",
      "ovr model: probability of 3: [3.05835995e-07 8.85514053e-09 9.87847027e-12 5.92480027e-14\n",
      " 7.26357850e-08 8.09721257e-08 9.94624730e-01 1.30070676e-13\n",
      " 5.37480206e-03 9.18365020e-21]\n",
      "ovr model: probability of 4: [2.31745748e-05 2.18870576e-11 3.57097455e-07 7.65735659e-17\n",
      " 1.14758240e-06 1.13118514e-07 9.99937757e-01 7.49566854e-09\n",
      " 3.74433347e-05 1.27664482e-20]\n",
      "ovr model: probability of 5: [4.09768133e-16 9.99152178e-01 7.37321312e-09 9.66173457e-21\n",
      " 3.91131989e-10 2.93570950e-11 2.24997896e-06 1.36648541e-17\n",
      " 8.45564639e-04 5.91858379e-13]\n",
      "ovr model: probability of 6: [9.99963955e-01 1.23491810e-13 7.54311400e-07 1.37137225e-18\n",
      " 3.51849828e-05 4.73004747e-10 9.02450359e-08 3.77128233e-10\n",
      " 1.48763391e-08 2.22663749e-13]\n",
      "ovr model: probability of 7: [4.98903193e-12 3.12186616e-11 9.99441416e-01 6.66885163e-06\n",
      " 1.15621099e-15 1.30279013e-07 2.35880813e-12 1.53555496e-05\n",
      " 5.36419466e-04 9.51424945e-09]\n",
      "ovr model: probability of 8: [1.73504041e-06 2.73287505e-05 1.45207118e-14 8.14745146e-29\n",
      " 9.99873055e-01 5.11681023e-08 2.54864902e-07 6.01869583e-05\n",
      " 3.72520501e-05 1.36601075e-07]\n",
      "ovr model: probability of 9: [1.23791804e-06 1.59918255e-02 8.15914252e-17 4.60027336e-09\n",
      " 5.10475773e-02 2.33979912e-04 8.39679715e-05 1.98389002e-05\n",
      " 2.56195822e-01 6.76425746e-01]\n",
      "softmax model: probability of 0: [2.25945204e-09 5.47849983e-05 9.99942005e-01 4.93168738e-11\n",
      " 1.24609186e-09 8.75841310e-19 7.04239940e-07 7.61494189e-08\n",
      " 2.42625980e-06 2.64206800e-14]\n",
      "softmax model: probability of 1: [2.61391944e-14 2.33106688e-10 5.40546020e-07 3.00740447e-07\n",
      " 2.49866124e-10 5.57263044e-10 3.59417859e-16 9.99999151e-01\n",
      " 1.17846436e-11 6.31786479e-09]\n",
      "softmax model: probability of 2: [9.99986246e-01 2.57631817e-09 5.38836826e-12 4.54731163e-13\n",
      " 1.48809224e-07 1.44550996e-10 1.10287705e-05 5.97875388e-12\n",
      " 1.42877717e-06 1.14517444e-06]\n",
      "softmax model: probability of 3: [2.27490930e-07 8.48006954e-09 2.04497683e-11 6.84878527e-11\n",
      " 2.15167308e-07 5.67937800e-09 9.99978389e-01 9.11572110e-14\n",
      " 2.11545313e-05 2.43366719e-14]\n",
      "softmax model: probability of 4: [8.70013933e-06 3.69972470e-10 1.81563710e-08 1.32172166e-12\n",
      " 7.79241546e-07 8.04933666e-09 9.99987173e-01 8.25762999e-12\n",
      " 3.32150841e-06 8.01011446e-16]\n",
      "softmax model: probability of 5: [1.67293247e-12 9.99935206e-01 1.16704986e-06 4.41113376e-11\n",
      " 4.57600992e-08 1.62919892e-10 9.19180963e-07 3.96274307e-12\n",
      " 6.26619045e-05 2.12859162e-10]\n",
      "softmax model: probability of 6: [9.99999972e-01 4.80863111e-13 9.23493729e-10 5.72066454e-14\n",
      " 9.94140401e-09 8.44023452e-10 1.62167387e-08 4.64082943e-11\n",
      " 8.57734798e-11 8.36250124e-13]\n",
      "softmax model: probability of 7: [2.90154409e-12 3.31391217e-09 9.99314663e-01 6.84730934e-04\n",
      " 4.41106276e-15 7.26166378e-09 1.41732004e-13 1.39984543e-08\n",
      " 5.66345631e-07 1.47631663e-08]\n",
      "softmax model: probability of 8: [4.50295933e-08 1.63008654e-06 1.79766578e-15 1.01509321e-15\n",
      " 9.99997418e-01 1.95975097e-09 7.24766776e-07 8.80272901e-08\n",
      " 9.22858147e-08 3.19021433e-10]\n",
      "softmax model: probability of 9: [1.82350599e-05 1.89788082e-01 6.91924584e-13 1.53703773e-06\n",
      " 6.71505449e-02 2.47290039e-03 1.04637338e-03 5.69073889e-04\n",
      " 4.87798057e-02 6.90173448e-01]\n"
     ]
    }
   ],
   "source": [
    "# ovr model\n",
    "for i in range(10):\n",
    "    print(f\"ovr model: probability of {i}: {logreg_ovr.predict_proba(X_test)[i]}\")"
   ]
  },
  {
   "cell_type": "code",
   "execution_count": 29,
   "metadata": {},
   "outputs": [
    {
     "name": "stdout",
     "output_type": "stream",
     "text": [
      "softmax model: probability of 0: [2.25945204e-09 5.47849983e-05 9.99942005e-01 4.93168738e-11\n",
      " 1.24609186e-09 8.75841310e-19 7.04239940e-07 7.61494189e-08\n",
      " 2.42625980e-06 2.64206800e-14]\n",
      "softmax model: probability of 1: [2.61391944e-14 2.33106688e-10 5.40546020e-07 3.00740447e-07\n",
      " 2.49866124e-10 5.57263044e-10 3.59417859e-16 9.99999151e-01\n",
      " 1.17846436e-11 6.31786479e-09]\n",
      "softmax model: probability of 2: [9.99986246e-01 2.57631817e-09 5.38836826e-12 4.54731163e-13\n",
      " 1.48809224e-07 1.44550996e-10 1.10287705e-05 5.97875388e-12\n",
      " 1.42877717e-06 1.14517444e-06]\n",
      "softmax model: probability of 3: [2.27490930e-07 8.48006954e-09 2.04497683e-11 6.84878527e-11\n",
      " 2.15167308e-07 5.67937800e-09 9.99978389e-01 9.11572110e-14\n",
      " 2.11545313e-05 2.43366719e-14]\n",
      "softmax model: probability of 4: [8.70013933e-06 3.69972470e-10 1.81563710e-08 1.32172166e-12\n",
      " 7.79241546e-07 8.04933666e-09 9.99987173e-01 8.25762999e-12\n",
      " 3.32150841e-06 8.01011446e-16]\n",
      "softmax model: probability of 5: [1.67293247e-12 9.99935206e-01 1.16704986e-06 4.41113376e-11\n",
      " 4.57600992e-08 1.62919892e-10 9.19180963e-07 3.96274307e-12\n",
      " 6.26619045e-05 2.12859162e-10]\n",
      "softmax model: probability of 6: [9.99999972e-01 4.80863111e-13 9.23493729e-10 5.72066454e-14\n",
      " 9.94140401e-09 8.44023452e-10 1.62167387e-08 4.64082943e-11\n",
      " 8.57734798e-11 8.36250124e-13]\n",
      "softmax model: probability of 7: [2.90154409e-12 3.31391217e-09 9.99314663e-01 6.84730934e-04\n",
      " 4.41106276e-15 7.26166378e-09 1.41732004e-13 1.39984543e-08\n",
      " 5.66345631e-07 1.47631663e-08]\n",
      "softmax model: probability of 8: [4.50295933e-08 1.63008654e-06 1.79766578e-15 1.01509321e-15\n",
      " 9.99997418e-01 1.95975097e-09 7.24766776e-07 8.80272901e-08\n",
      " 9.22858147e-08 3.19021433e-10]\n",
      "softmax model: probability of 9: [1.82350599e-05 1.89788082e-01 6.91924584e-13 1.53703773e-06\n",
      " 6.71505449e-02 2.47290039e-03 1.04637338e-03 5.69073889e-04\n",
      " 4.87798057e-02 6.90173448e-01]\n"
     ]
    }
   ],
   "source": [
    "# softmax model\n",
    "for i in range(10):\n",
    "    print(\n",
    "        f\"softmax model: probability of {i}: {logreg_softmax.predict_proba(X_test)[i]}\"\n",
    "    )"
   ]
  },
  {
   "cell_type": "code",
   "execution_count": null,
   "metadata": {},
   "outputs": [],
   "source": []
  }
 ],
 "metadata": {
  "kernelspec": {
   "display_name": "my_project",
   "language": "python",
   "name": "python3"
  },
  "language_info": {
   "codemirror_mode": {
    "name": "ipython",
    "version": 3
   },
   "file_extension": ".py",
   "mimetype": "text/x-python",
   "name": "python",
   "nbconvert_exporter": "python",
   "pygments_lexer": "ipython3",
   "version": "3.10.14"
  }
 },
 "nbformat": 4,
 "nbformat_minor": 2
}
